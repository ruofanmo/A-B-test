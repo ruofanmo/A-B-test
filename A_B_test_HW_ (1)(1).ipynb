{
 "cells": [
  {
   "cell_type": "code",
   "execution_count": 4,
   "metadata": {
    "id": "IMP96VOT5Z1u"
   },
   "outputs": [],
   "source": [
    "import pandas as pd\n",
    "import numpy as np\n",
    "import random\n",
    "import matplotlib.pyplot as plt\n",
    "%matplotlib inline\n",
    "random.seed(42)"
   ]
  },
  {
   "cell_type": "code",
   "execution_count": 5,
   "metadata": {
    "id": "4hIYfZPa5xok"
   },
   "outputs": [],
   "source": [
    "df=pd.read_csv('AB_test_data.csv')"
   ]
  },
  {
   "cell_type": "code",
   "execution_count": 6,
   "metadata": {
    "colab": {
     "base_uri": "https://localhost:8080/",
     "height": 206
    },
    "id": "HFApAA8c6TkI",
    "outputId": "ac68fcd4-084b-4aef-9eb4-41792fed12e5"
   },
   "outputs": [
    {
     "data": {
      "text/html": [
       "<div>\n",
       "<style scoped>\n",
       "    .dataframe tbody tr th:only-of-type {\n",
       "        vertical-align: middle;\n",
       "    }\n",
       "\n",
       "    .dataframe tbody tr th {\n",
       "        vertical-align: top;\n",
       "    }\n",
       "\n",
       "    .dataframe thead th {\n",
       "        text-align: right;\n",
       "    }\n",
       "</style>\n",
       "<table border=\"1\" class=\"dataframe\">\n",
       "  <thead>\n",
       "    <tr style=\"text-align: right;\">\n",
       "      <th></th>\n",
       "      <th>purchase_TF</th>\n",
       "      <th>Variant</th>\n",
       "      <th>date</th>\n",
       "      <th>id</th>\n",
       "      <th>Unnamed: 4</th>\n",
       "      <th>1.define hypothesis</th>\n",
       "    </tr>\n",
       "  </thead>\n",
       "  <tbody>\n",
       "    <tr>\n",
       "      <th>0</th>\n",
       "      <td>False</td>\n",
       "      <td>A</td>\n",
       "      <td>2019/11/8</td>\n",
       "      <td>0x25b44a</td>\n",
       "      <td>NaN</td>\n",
       "      <td>H0: p0 = p1</td>\n",
       "    </tr>\n",
       "    <tr>\n",
       "      <th>1</th>\n",
       "      <td>False</td>\n",
       "      <td>B</td>\n",
       "      <td>2020/8/27</td>\n",
       "      <td>0x46271e</td>\n",
       "      <td>NaN</td>\n",
       "      <td>Ha: p0 \\= p1</td>\n",
       "    </tr>\n",
       "    <tr>\n",
       "      <th>2</th>\n",
       "      <td>False</td>\n",
       "      <td>A</td>\n",
       "      <td>2020/6/11</td>\n",
       "      <td>0x80b8f1</td>\n",
       "      <td>NaN</td>\n",
       "      <td>a = 0.05</td>\n",
       "    </tr>\n",
       "    <tr>\n",
       "      <th>3</th>\n",
       "      <td>False</td>\n",
       "      <td>B</td>\n",
       "      <td>2020/8/22</td>\n",
       "      <td>0x8d736d</td>\n",
       "      <td>NaN</td>\n",
       "      <td>2. calculate z-score</td>\n",
       "    </tr>\n",
       "    <tr>\n",
       "      <th>4</th>\n",
       "      <td>False</td>\n",
       "      <td>A</td>\n",
       "      <td>2020/8/5</td>\n",
       "      <td>0x96c9c8</td>\n",
       "      <td>NaN</td>\n",
       "      <td>NaN</td>\n",
       "    </tr>\n",
       "  </tbody>\n",
       "</table>\n",
       "</div>"
      ],
      "text/plain": [
       "   purchase_TF Variant       date        id  Unnamed: 4   1.define hypothesis\n",
       "0        False       A  2019/11/8  0x25b44a         NaN           H0: p0 = p1\n",
       "1        False       B  2020/8/27  0x46271e         NaN          Ha: p0 \\= p1\n",
       "2        False       A  2020/6/11  0x80b8f1         NaN              a = 0.05\n",
       "3        False       B  2020/8/22  0x8d736d         NaN  2. calculate z-score\n",
       "4        False       A   2020/8/5  0x96c9c8         NaN                   NaN"
      ]
     },
     "execution_count": 6,
     "metadata": {},
     "output_type": "execute_result"
    }
   ],
   "source": [
    "df.head()"
   ]
  },
  {
   "cell_type": "code",
   "execution_count": 7,
   "metadata": {
    "id": "vMhOXc4a6TqM"
   },
   "outputs": [
    {
     "name": "stdout",
     "output_type": "stream",
     "text": [
      "<class 'pandas.core.frame.DataFrame'>\n",
      "RangeIndex: 130000 entries, 0 to 129999\n",
      "Data columns (total 6 columns):\n",
      " #   Column               Non-Null Count   Dtype  \n",
      "---  ------               --------------   -----  \n",
      " 0   purchase_TF          130000 non-null  bool   \n",
      " 1   Variant              130000 non-null  object \n",
      " 2   date                 130000 non-null  object \n",
      " 3   id                   130000 non-null  object \n",
      " 4   Unnamed: 4           0 non-null       float64\n",
      " 5   1.define hypothesis  4 non-null       object \n",
      "dtypes: bool(1), float64(1), object(4)\n",
      "memory usage: 5.1+ MB\n"
     ]
    }
   ],
   "source": [
    "df.info()"
   ]
  },
  {
   "cell_type": "code",
   "execution_count": 8,
   "metadata": {
    "id": "QdVrQ_R76TtS"
   },
   "outputs": [],
   "source": [
    "P_a=float(df.query('Variant==\"A\"').query('purchase_TF==True')['id'].count())/float(df.query('Variant==\"A\"')['id'].count())"
   ]
  },
  {
   "cell_type": "code",
   "execution_count": 9,
   "metadata": {
    "id": "1gHTeDfR6Tvy"
   },
   "outputs": [],
   "source": [
    "P_b=float(df.query('Variant==\"B\"').query('purchase_TF==True')['id'].count())/float(df.query('Variant==\"B\"')['id'].count())"
   ]
  },
  {
   "cell_type": "code",
   "execution_count": 10,
   "metadata": {},
   "outputs": [
    {
     "data": {
      "text/plain": [
       "0.149616"
      ]
     },
     "execution_count": 10,
     "metadata": {},
     "output_type": "execute_result"
    }
   ],
   "source": [
    "P_a"
   ]
  },
  {
   "cell_type": "code",
   "execution_count": 11,
   "metadata": {},
   "outputs": [
    {
     "data": {
      "text/plain": [
       "0.1766"
      ]
     },
     "execution_count": 11,
     "metadata": {},
     "output_type": "execute_result"
    }
   ],
   "source": [
    "P_b"
   ]
  },
  {
   "cell_type": "code",
   "execution_count": 12,
   "metadata": {
    "id": "-Og0ELwk_9Hg"
   },
   "outputs": [],
   "source": [
    "from statsmodels.stats.proportion import proportions_ztest"
   ]
  },
  {
   "cell_type": "code",
   "execution_count": 13,
   "metadata": {
    "colab": {
     "base_uri": "https://localhost:8080/"
    },
    "id": "q_8SJN0xFxvl",
    "outputId": "88b8c0a6-ed47-4f39-857d-145e0fcb5c48"
   },
   "outputs": [
    {
     "name": "stdout",
     "output_type": "stream",
     "text": [
      "<class 'pandas.core.frame.DataFrame'>\n",
      "RangeIndex: 130000 entries, 0 to 129999\n",
      "Data columns (total 6 columns):\n",
      " #   Column               Non-Null Count   Dtype  \n",
      "---  ------               --------------   -----  \n",
      " 0   purchase_TF          130000 non-null  bool   \n",
      " 1   Variant              130000 non-null  object \n",
      " 2   date                 130000 non-null  object \n",
      " 3   id                   130000 non-null  object \n",
      " 4   Unnamed: 4           0 non-null       float64\n",
      " 5   1.define hypothesis  4 non-null       object \n",
      "dtypes: bool(1), float64(1), object(4)\n",
      "memory usage: 5.1+ MB\n"
     ]
    }
   ],
   "source": [
    "df.info()"
   ]
  },
  {
   "cell_type": "code",
   "execution_count": 14,
   "metadata": {
    "colab": {
     "base_uri": "https://localhost:8080/"
    },
    "id": "k4JlaJhu_8u1",
    "outputId": "6cebf19f-4499-4ac0-d403-d67bc9ccf741"
   },
   "outputs": [
    {
     "data": {
      "text/plain": [
       "10        True\n",
       "19        True\n",
       "22        True\n",
       "37        True\n",
       "45        True\n",
       "          ... \n",
       "129978    True\n",
       "129980    True\n",
       "129982    True\n",
       "129988    True\n",
       "129989    True\n",
       "Name: purchase_TF, Length: 18702, dtype: bool"
      ]
     },
     "execution_count": 14,
     "metadata": {},
     "output_type": "execute_result"
    }
   ],
   "source": [
    "control_results = df[(df['purchase_TF'] == True) &(df['Variant']=='A')]['purchase_TF']\n",
    "control_results"
   ]
  },
  {
   "cell_type": "code",
   "execution_count": 15,
   "metadata": {
    "colab": {
     "base_uri": "https://localhost:8080/"
    },
    "id": "4vI0P_nzGKCO",
    "outputId": "8451393f-d62c-49c4-85d7-bcc1e9ae0f43"
   },
   "outputs": [
    {
     "data": {
      "text/plain": [
       "181       True\n",
       "415       True\n",
       "429       True\n",
       "553       True\n",
       "726       True\n",
       "          ... \n",
       "128735    True\n",
       "128881    True\n",
       "129016    True\n",
       "129048    True\n",
       "129798    True\n",
       "Name: purchase_TF, Length: 883, dtype: bool"
      ]
     },
     "execution_count": 15,
     "metadata": {},
     "output_type": "execute_result"
    }
   ],
   "source": [
    "treatment_results = df[(df['purchase_TF'] == True)&(df['Variant']=='B')]['purchase_TF']\n",
    "treatment_results"
   ]
  },
  {
   "cell_type": "code",
   "execution_count": 16,
   "metadata": {
    "id": "QOv8mAJxImjT"
   },
   "outputs": [],
   "source": [
    "n_treat = df[df['Variant']=='B']['id'].count()"
   ]
  },
  {
   "cell_type": "code",
   "execution_count": 17,
   "metadata": {
    "colab": {
     "base_uri": "https://localhost:8080/"
    },
    "id": "c51sahfEIo6L",
    "outputId": "fa98864c-8ffc-40f6-c172-427040e4890b"
   },
   "outputs": [
    {
     "data": {
      "text/plain": [
       "5000"
      ]
     },
     "execution_count": 17,
     "metadata": {},
     "output_type": "execute_result"
    }
   ],
   "source": [
    "n_treat"
   ]
  },
  {
   "cell_type": "code",
   "execution_count": 18,
   "metadata": {
    "id": "NqQbUIdM_65o"
   },
   "outputs": [],
   "source": [
    "n_con = df[df['Variant']=='A']['id'].count()\n",
    "n_treat = df[df['Variant']=='B']['id'].count()\n",
    "successes = [treatment_results.sum(),control_results.sum() ]\n",
    "nobs = [n_treat, n_con]"
   ]
  },
  {
   "cell_type": "code",
   "execution_count": 19,
   "metadata": {
    "colab": {
     "base_uri": "https://localhost:8080/"
    },
    "id": "3uGBOpEyHk7m",
    "outputId": "11336c58-4776-419b-8971-404d0ab0c7b4"
   },
   "outputs": [
    {
     "data": {
      "text/plain": [
       "125000"
      ]
     },
     "execution_count": 19,
     "metadata": {},
     "output_type": "execute_result"
    }
   ],
   "source": [
    "n_con"
   ]
  },
  {
   "cell_type": "code",
   "execution_count": 20,
   "metadata": {
    "colab": {
     "base_uri": "https://localhost:8080/"
    },
    "id": "lnjvYsUVBwpi",
    "outputId": "054e193a-4d08-43d1-9015-fbd159752c3d"
   },
   "outputs": [
    {
     "data": {
      "text/plain": [
       "[883, 18702]"
      ]
     },
     "execution_count": 20,
     "metadata": {},
     "output_type": "execute_result"
    }
   ],
   "source": [
    "successes"
   ]
  },
  {
   "cell_type": "code",
   "execution_count": 21,
   "metadata": {
    "id": "TRF8mw3o_5xm"
   },
   "outputs": [],
   "source": [
    "z_stat, pval = proportions_ztest(successes, nobs=nobs)"
   ]
  },
  {
   "cell_type": "code",
   "execution_count": 22,
   "metadata": {
    "colab": {
     "base_uri": "https://localhost:8080/"
    },
    "id": "FI9wEPlyHecF",
    "outputId": "c7e1f7b0-07d9-4386-a2a4-fe6e254eac3b"
   },
   "outputs": [
    {
     "data": {
      "text/plain": [
       "5.2304877183522045"
      ]
     },
     "execution_count": 22,
     "metadata": {},
     "output_type": "execute_result"
    }
   ],
   "source": [
    "z_stat"
   ]
  },
  {
   "cell_type": "code",
   "execution_count": 24,
   "metadata": {
    "id": "1oM_Mf_0Mqc1"
   },
   "outputs": [],
   "source": [
    "#optimal_n=((1.96*np.sqrt(2*p_bar*(1-p_bar))+0.2*np.sqrt(P_b*(1-P_b)+P_a*(1-P_a)))**2)/((0.02)**2)"
   ]
  },
  {
   "cell_type": "code",
   "execution_count": 26,
   "metadata": {
    "colab": {
     "base_uri": "https://localhost:8080/"
    },
    "id": "S1jOgoTXMqmW",
    "outputId": "c79ffc61-8122-4472-dae7-05bf062b4cbe"
   },
   "outputs": [],
   "source": [
    "#optimal=optimal_n.round()"
   ]
  },
  {
   "cell_type": "code",
   "execution_count": 27,
   "metadata": {
    "id": "hgt6ox6yMqtb"
   },
   "outputs": [],
   "source": [
    "treatment=df[df['Variant']=='B']"
   ]
  },
  {
   "cell_type": "code",
   "execution_count": 28,
   "metadata": {
    "id": "M5QAWq9LMq_y"
   },
   "outputs": [],
   "source": [
    "control=df[df['Variant']=='A']"
   ]
  },
  {
   "cell_type": "code",
   "execution_count": 29,
   "metadata": {},
   "outputs": [],
   "source": [
    "from random import sample"
   ]
  },
  {
   "cell_type": "code",
   "execution_count": 30,
   "metadata": {},
   "outputs": [],
   "source": [
    "control1=control.sample(n=3184)"
   ]
  },
  {
   "cell_type": "code",
   "execution_count": 31,
   "metadata": {},
   "outputs": [],
   "source": [
    "treatment1=treatment.sample(n=3184)"
   ]
  },
  {
   "cell_type": "code",
   "execution_count": 32,
   "metadata": {},
   "outputs": [],
   "source": [
    "treatment_results1= treatment1[treatment1['purchase_TF'] == True]['purchase_TF']\n",
    "control_results1= control1[control1['purchase_TF'] == True]['purchase_TF']"
   ]
  },
  {
   "cell_type": "code",
   "execution_count": 33,
   "metadata": {},
   "outputs": [],
   "source": [
    "successes1 = [control_results1.sum(), treatment_results1.sum()]"
   ]
  },
  {
   "cell_type": "code",
   "execution_count": 34,
   "metadata": {},
   "outputs": [],
   "source": [
    "z_stat1, pval1 = proportions_ztest(successes1, nobs=[3184,3184])"
   ]
  },
  {
   "cell_type": "code",
   "execution_count": 35,
   "metadata": {},
   "outputs": [
    {
     "data": {
      "text/plain": [
       "-3.030078544089735"
      ]
     },
     "execution_count": 35,
     "metadata": {},
     "output_type": "execute_result"
    }
   ],
   "source": [
    "z_stat1"
   ]
  },
  {
   "cell_type": "code",
   "execution_count": 36,
   "metadata": {},
   "outputs": [
    {
     "data": {
      "text/plain": [
       "0.0024449014784504357"
      ]
     },
     "execution_count": 36,
     "metadata": {},
     "output_type": "execute_result"
    }
   ],
   "source": [
    "pval1"
   ]
  },
  {
   "cell_type": "code",
   "execution_count": 37,
   "metadata": {},
   "outputs": [
    {
     "data": {
      "text/plain": [
       "0.14761306532663315"
      ]
     },
     "execution_count": 37,
     "metadata": {},
     "output_type": "execute_result"
    }
   ],
   "source": [
    "P_a= control_results1.sum()/3184\n",
    "P_a"
   ]
  },
  {
   "cell_type": "code",
   "execution_count": 38,
   "metadata": {},
   "outputs": [
    {
     "data": {
      "text/plain": [
       "0.17556532663316582"
      ]
     },
     "execution_count": 38,
     "metadata": {},
     "output_type": "execute_result"
    }
   ],
   "source": [
    "P_b= treatment_results1.sum()/3184\n",
    "P_b"
   ]
  },
  {
   "cell_type": "code",
   "execution_count": 39,
   "metadata": {},
   "outputs": [
    {
     "name": "stdout",
     "output_type": "stream",
     "text": [
      "[4.310340001635158, 1.9088154087269509, 4.574739832886086, 3.4279081902767774, 3.0742570696740414, 3.4660549170759873, 3.614997406465741, 1.9801112709506952, 3.0206319696498345, 3.1939257700472834]\n",
      "[1.6300373075495345e-05, 0.05628590839900456, 4.768121252995879e-06, 0.0006082511245780345, 0.002110275078541195, 0.0005281553893490519, 0.0003003506284811257, 0.04769102695703615, 0.0025224775642887034, 0.0014035220123992608]\n",
      "[0.14290201005025124, 0.15232412060301506, 0.13944723618090452, 0.14698492462311558, 0.1504396984924623, 0.14258793969849246, 0.1407035175879397, 0.1513819095477387, 0.14886934673366833, 0.1560929648241206]\n",
      "[0.1827889447236181, 0.16991206030150754, 0.1815326633165829, 0.17870603015075376, 0.17902010050251257, 0.17430904522613067, 0.17368090452261306, 0.16959798994974876, 0.176821608040201, 0.18624371859296482]\n"
     ]
    },
    {
     "name": "stderr",
     "output_type": "stream",
     "text": [
      "C:\\Users\\Ruofan Mo\\AppData\\Local\\Temp\\ipykernel_37996\\688659106.py:14: UserWarning: Boolean Series key will be reindexed to match DataFrame index.\n",
      "  control_results = df_control_result[control['purchase_TF'] == True]['purchase_TF']\n",
      "C:\\Users\\Ruofan Mo\\AppData\\Local\\Temp\\ipykernel_37996\\688659106.py:16: UserWarning: Boolean Series key will be reindexed to match DataFrame index.\n",
      "  treatment_results = df_treatment_result[treatment['purchase_TF'] == True]['purchase_TF']\n"
     ]
    }
   ],
   "source": [
    "random_num_dict = {}\n",
    "for i in range(10):\n",
    "    random_num_dict[i] = [control.sample(n=3184),treatment.sample(n=3184)]\n",
    "#print(random_num_dict)\n",
    "\n",
    "z_stats_list = []\n",
    "p_val_list = []\n",
    "P_a_list = []\n",
    "P_b_list = []\n",
    "\n",
    "for key in random_num_dict.keys():\n",
    "    #obtaining the results(randomized control/treatment group) by key\n",
    "    df_control_result = random_num_dict[key][0]\n",
    "    control_results = df_control_result[control['purchase_TF'] == True]['purchase_TF']\n",
    "    df_treatment_result = random_num_dict[key][1]\n",
    "    treatment_results = df_treatment_result[treatment['purchase_TF'] == True]['purchase_TF']\n",
    "    \n",
    "    successes = [treatment_results.sum(),control_results.sum()]\n",
    "    \n",
    "    z_stat, p_val = proportions_ztest(successes, nobs=[3184,3184])\n",
    "    z_stats_list.append(z_stat)\n",
    "    p_val_list.append(p_val)\n",
    "    \n",
    "    P_a = control_results.sum()/3184\n",
    "    P_b = treatment_results.sum()/3184\n",
    "    \n",
    "    P_a_list.append(P_a)\n",
    "    P_b_list.append(P_b)\n",
    "    \n",
    "    \n",
    "print(z_stats_list)\n",
    "print(p_val_list)\n",
    "print(P_a_list)\n",
    "print(P_b_list)\n",
    "#each list is indiced according to range(10), e.g. z_stats_1 = z_stats_list[0], p_val_1 = p_val_list[0]."
   ]
  },
  {
   "cell_type": "code",
   "execution_count": 40,
   "metadata": {},
   "outputs": [
    {
     "data": {
      "text/html": [
       "<div>\n",
       "<style scoped>\n",
       "    .dataframe tbody tr th:only-of-type {\n",
       "        vertical-align: middle;\n",
       "    }\n",
       "\n",
       "    .dataframe tbody tr th {\n",
       "        vertical-align: top;\n",
       "    }\n",
       "\n",
       "    .dataframe thead th {\n",
       "        text-align: right;\n",
       "    }\n",
       "</style>\n",
       "<table border=\"1\" class=\"dataframe\">\n",
       "  <thead>\n",
       "    <tr style=\"text-align: right;\">\n",
       "      <th></th>\n",
       "      <th>Z_score</th>\n",
       "      <th>P_a</th>\n",
       "      <th>P_b</th>\n",
       "    </tr>\n",
       "  </thead>\n",
       "  <tbody>\n",
       "    <tr>\n",
       "      <th>0</th>\n",
       "      <td>4.310340</td>\n",
       "      <td>0.142902</td>\n",
       "      <td>0.182789</td>\n",
       "    </tr>\n",
       "    <tr>\n",
       "      <th>1</th>\n",
       "      <td>1.908815</td>\n",
       "      <td>0.152324</td>\n",
       "      <td>0.169912</td>\n",
       "    </tr>\n",
       "    <tr>\n",
       "      <th>2</th>\n",
       "      <td>4.574740</td>\n",
       "      <td>0.139447</td>\n",
       "      <td>0.181533</td>\n",
       "    </tr>\n",
       "    <tr>\n",
       "      <th>3</th>\n",
       "      <td>3.427908</td>\n",
       "      <td>0.146985</td>\n",
       "      <td>0.178706</td>\n",
       "    </tr>\n",
       "    <tr>\n",
       "      <th>4</th>\n",
       "      <td>3.074257</td>\n",
       "      <td>0.150440</td>\n",
       "      <td>0.179020</td>\n",
       "    </tr>\n",
       "    <tr>\n",
       "      <th>5</th>\n",
       "      <td>3.466055</td>\n",
       "      <td>0.142588</td>\n",
       "      <td>0.174309</td>\n",
       "    </tr>\n",
       "    <tr>\n",
       "      <th>6</th>\n",
       "      <td>3.614997</td>\n",
       "      <td>0.140704</td>\n",
       "      <td>0.173681</td>\n",
       "    </tr>\n",
       "    <tr>\n",
       "      <th>7</th>\n",
       "      <td>1.980111</td>\n",
       "      <td>0.151382</td>\n",
       "      <td>0.169598</td>\n",
       "    </tr>\n",
       "    <tr>\n",
       "      <th>8</th>\n",
       "      <td>3.020632</td>\n",
       "      <td>0.148869</td>\n",
       "      <td>0.176822</td>\n",
       "    </tr>\n",
       "    <tr>\n",
       "      <th>9</th>\n",
       "      <td>3.193926</td>\n",
       "      <td>0.156093</td>\n",
       "      <td>0.186244</td>\n",
       "    </tr>\n",
       "  </tbody>\n",
       "</table>\n",
       "</div>"
      ],
      "text/plain": [
       "    Z_score       P_a       P_b\n",
       "0  4.310340  0.142902  0.182789\n",
       "1  1.908815  0.152324  0.169912\n",
       "2  4.574740  0.139447  0.181533\n",
       "3  3.427908  0.146985  0.178706\n",
       "4  3.074257  0.150440  0.179020\n",
       "5  3.466055  0.142588  0.174309\n",
       "6  3.614997  0.140704  0.173681\n",
       "7  1.980111  0.151382  0.169598\n",
       "8  3.020632  0.148869  0.176822\n",
       "9  3.193926  0.156093  0.186244"
      ]
     },
     "execution_count": 40,
     "metadata": {},
     "output_type": "execute_result"
    }
   ],
   "source": [
    "results = pd.DataFrame(list(zip(z_stats_list, P_a_list,P_b_list)),\n",
    "               columns =['Z_score', 'P_a','P_b'])\n",
    "results\n",
    "    "
   ]
  },
  {
   "cell_type": "code",
   "execution_count": 41,
   "metadata": {},
   "outputs": [
    {
     "name": "stdout",
     "output_type": "stream",
     "text": [
      "Requirement already satisfied: sprt in c:\\users\\ruofan mo\\anaconda3\\lib\\site-packages (0.0.1)\n"
     ]
    }
   ],
   "source": [
    "!pip install sprt"
   ]
  },
  {
   "cell_type": "code",
   "execution_count": 52,
   "metadata": {},
   "outputs": [
    {
     "name": "stdout",
     "output_type": "stream",
     "text": [
      "Decision:\tAccept\n",
      "\n",
      "    values  lower  upper\n",
      "n                       \n",
      "1    0.295 -1.058  3.273\n",
      "2    0.435 -0.558  3.773\n",
      "3    0.582 -0.058  4.273\n",
      "4    0.732  0.442  4.773\n",
      "5    0.875  0.942  5.273\n",
      "6    1.015  1.442  5.773\n",
      "7    1.167  1.942  6.273\n",
      "8    1.316  2.442  6.773\n",
      "9    1.472  2.942  7.273\n",
      "10     NaN  3.442  7.773\n"
     ]
    }
   ],
   "source": [
    "import sprt as sprt\n",
    "import numpy as np\n",
    "\n",
    "test = sprt.SPRTNormal(alpha = 0.05, beta = 0.2, h0 = 0, h1 = 1, \n",
    "values = results['P_a'], \n",
    "variance = 1)"
   ]
  },
  {
   "cell_type": "code",
   "execution_count": 46,
   "metadata": {},
   "outputs": [
    {
     "data": {
      "text/plain": [
       "<bound method SPRT.plot of <sprt.sprt.SPRTNormal object at 0x0000021D27233310>>"
      ]
     },
     "execution_count": 46,
     "metadata": {},
     "output_type": "execute_result"
    }
   ],
   "source": [
    "test.plot"
   ]
  },
  {
   "cell_type": "code",
   "execution_count": 49,
   "metadata": {},
   "outputs": [
    {
     "name": "stdout",
     "output_type": "stream",
     "text": [
      "Decision:\tAccept\n",
      "\n",
      "    values  lower  upper\n",
      "n                       \n",
      "1    0.353 -1.058  3.273\n",
      "2    0.534 -0.558  3.773\n",
      "3    0.713 -0.058  4.273\n",
      "4    0.892  0.442  4.773\n",
      "5    1.066  0.942  5.273\n",
      "6    1.240  1.442  5.773\n",
      "7    1.410  1.942  6.273\n",
      "8    1.586  2.442  6.773\n",
      "9    1.773  2.942  7.273\n",
      "10     NaN  3.442  7.773\n"
     ]
    }
   ],
   "source": [
    "import sprt as sprtb\n",
    "import numpy as np\n",
    "\n",
    "test = sprt.SPRTNormal(alpha = 0.05, beta = 0.2, h0 = 0, h1 = 1, \n",
    "values = results['P_b'], \n",
    "variance = 1)"
   ]
  },
  {
   "cell_type": "code",
   "execution_count": 50,
   "metadata": {},
   "outputs": [
    {
     "data": {
      "text/plain": [
       "<bound method SPRT.plot of <sprt.sprt.SPRTNormal object at 0x0000021D271FF910>>"
      ]
     },
     "execution_count": 50,
     "metadata": {},
     "output_type": "execute_result"
    }
   ],
   "source": [
    "test.plot"
   ]
  },
  {
   "cell_type": "code",
   "execution_count": null,
   "metadata": {},
   "outputs": [],
   "source": []
  },
  {
   "cell_type": "code",
   "execution_count": null,
   "metadata": {},
   "outputs": [],
   "source": [
    "Z_stat=[]\n",
    "pval=[]\n",
    "treatment_results = []\n",
    "control_results=[]\n",
    "successes=[]\n",
    "nobs=[optimal,optimal]\n",
    "for [i,j] in np.arange(10):\n",
    "\n",
    "    control_sample=control.sample(n=int(optimal))\n",
    "    treatment_sample=treatment.sample(n=int(optimal))\n",
    "    treatment_results[i] = treatment_sample[treatment_sample['purchase_TF'] == True]['purchase_TF']\n",
    "    control_results[i] = control_sample[control_sample['purchase_TF'] == True]['purchase_TF']\n",
    "    successes[i] = [control_results[i].sum(), treatment_results[i].sum()]\n",
    "    \n",
    "    Z_stat[i], pval[i] = proportions_ztest(successes[i], nobs=nobs)\n",
    "    \n",
    "    print (Z_stat)\n",
    "    \n",
    "    \n"
   ]
  },
  {
   "cell_type": "code",
   "execution_count": null,
   "metadata": {},
   "outputs": [],
   "source": [
    "for i in np.arange(10):\n",
    "    print(i)\n",
    "for j in np.arange(10):\n",
    "    print(j)\n",
    "\n"
   ]
  },
  {
   "cell_type": "code",
   "execution_count": null,
   "metadata": {},
   "outputs": [],
   "source": []
  }
 ],
 "metadata": {
  "colab": {
   "collapsed_sections": [],
   "provenance": []
  },
  "kernelspec": {
   "display_name": "Python 3 (ipykernel)",
   "language": "python",
   "name": "python3"
  },
  "language_info": {
   "codemirror_mode": {
    "name": "ipython",
    "version": 3
   },
   "file_extension": ".py",
   "mimetype": "text/x-python",
   "name": "python",
   "nbconvert_exporter": "python",
   "pygments_lexer": "ipython3",
   "version": "3.9.12"
  }
 },
 "nbformat": 4,
 "nbformat_minor": 1
}
