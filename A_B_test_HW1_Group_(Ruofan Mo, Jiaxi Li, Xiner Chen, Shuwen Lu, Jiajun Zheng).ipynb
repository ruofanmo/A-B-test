{
 "cells": [
  {
   "cell_type": "markdown",
   "metadata": {
    "id": "IMP96VOT5Z1u"
   },
   "source": [
    "## Q1"
   ]
  },
  {
   "cell_type": "code",
   "execution_count": 45,
   "metadata": {},
   "outputs": [],
   "source": [
    "# import pandas as pd\n",
    "import numpy as np\n",
    "import pandas as pd\n",
    "import random\n",
    "import matplotlib.pyplot as plt\n",
    "%matplotlib inline\n",
    "random.seed(42)"
   ]
  },
  {
   "cell_type": "code",
   "execution_count": 46,
   "metadata": {
    "id": "4hIYfZPa5xok"
   },
   "outputs": [],
   "source": [
    "df = pd.read_csv('AB_test_data.csv')"
   ]
  },
  {
   "cell_type": "code",
   "execution_count": 47,
   "metadata": {
    "colab": {
     "base_uri": "https://localhost:8080/",
     "height": 206
    },
    "id": "HFApAA8c6TkI",
    "outputId": "ac68fcd4-084b-4aef-9eb4-41792fed12e5"
   },
   "outputs": [
    {
     "data": {
      "text/html": [
       "<div>\n",
       "<style scoped>\n",
       "    .dataframe tbody tr th:only-of-type {\n",
       "        vertical-align: middle;\n",
       "    }\n",
       "\n",
       "    .dataframe tbody tr th {\n",
       "        vertical-align: top;\n",
       "    }\n",
       "\n",
       "    .dataframe thead th {\n",
       "        text-align: right;\n",
       "    }\n",
       "</style>\n",
       "<table border=\"1\" class=\"dataframe\">\n",
       "  <thead>\n",
       "    <tr style=\"text-align: right;\">\n",
       "      <th></th>\n",
       "      <th>purchase_TF</th>\n",
       "      <th>Variant</th>\n",
       "      <th>date</th>\n",
       "      <th>id</th>\n",
       "    </tr>\n",
       "  </thead>\n",
       "  <tbody>\n",
       "    <tr>\n",
       "      <th>0</th>\n",
       "      <td>False</td>\n",
       "      <td>A</td>\n",
       "      <td>2019-11-08</td>\n",
       "      <td>0x25b44a</td>\n",
       "    </tr>\n",
       "    <tr>\n",
       "      <th>1</th>\n",
       "      <td>False</td>\n",
       "      <td>B</td>\n",
       "      <td>2020-08-27</td>\n",
       "      <td>0x46271e</td>\n",
       "    </tr>\n",
       "    <tr>\n",
       "      <th>2</th>\n",
       "      <td>False</td>\n",
       "      <td>A</td>\n",
       "      <td>2020-06-11</td>\n",
       "      <td>0x80b8f1</td>\n",
       "    </tr>\n",
       "    <tr>\n",
       "      <th>3</th>\n",
       "      <td>False</td>\n",
       "      <td>B</td>\n",
       "      <td>2020-08-22</td>\n",
       "      <td>0x8d736d</td>\n",
       "    </tr>\n",
       "    <tr>\n",
       "      <th>4</th>\n",
       "      <td>False</td>\n",
       "      <td>A</td>\n",
       "      <td>2020-08-05</td>\n",
       "      <td>0x96c9c8</td>\n",
       "    </tr>\n",
       "  </tbody>\n",
       "</table>\n",
       "</div>"
      ],
      "text/plain": [
       "   purchase_TF Variant        date        id\n",
       "0        False       A  2019-11-08  0x25b44a\n",
       "1        False       B  2020-08-27  0x46271e\n",
       "2        False       A  2020-06-11  0x80b8f1\n",
       "3        False       B  2020-08-22  0x8d736d\n",
       "4        False       A  2020-08-05  0x96c9c8"
      ]
     },
     "execution_count": 47,
     "metadata": {},
     "output_type": "execute_result"
    }
   ],
   "source": [
    "df.head()"
   ]
  },
  {
   "cell_type": "code",
   "execution_count": 48,
   "metadata": {
    "id": "vMhOXc4a6TqM"
   },
   "outputs": [
    {
     "name": "stdout",
     "output_type": "stream",
     "text": [
      "<class 'pandas.core.frame.DataFrame'>\n",
      "RangeIndex: 130000 entries, 0 to 129999\n",
      "Data columns (total 4 columns):\n",
      " #   Column       Non-Null Count   Dtype \n",
      "---  ------       --------------   ----- \n",
      " 0   purchase_TF  130000 non-null  bool  \n",
      " 1   Variant      130000 non-null  object\n",
      " 2   date         130000 non-null  object\n",
      " 3   id           130000 non-null  object\n",
      "dtypes: bool(1), object(3)\n",
      "memory usage: 3.1+ MB\n"
     ]
    }
   ],
   "source": [
    "df.info()"
   ]
  },
  {
   "cell_type": "code",
   "execution_count": 49,
   "metadata": {
    "id": "QdVrQ_R76TtS"
   },
   "outputs": [],
   "source": [
    "P_a=float(df.query('Variant==\"A\"').query('purchase_TF==True')['id'].count())/float(df.query('Variant==\"A\"')['id'].count())"
   ]
  },
  {
   "cell_type": "code",
   "execution_count": 50,
   "metadata": {
    "id": "1gHTeDfR6Tvy"
   },
   "outputs": [],
   "source": [
    "P_b=float(df.query('Variant==\"B\"').query('purchase_TF==True')['id'].count())/float(df.query('Variant==\"B\"')['id'].count())"
   ]
  },
  {
   "cell_type": "code",
   "execution_count": 51,
   "metadata": {},
   "outputs": [
    {
     "data": {
      "text/plain": [
       "0.149616"
      ]
     },
     "execution_count": 51,
     "metadata": {},
     "output_type": "execute_result"
    }
   ],
   "source": [
    "P_a"
   ]
  },
  {
   "cell_type": "code",
   "execution_count": 52,
   "metadata": {},
   "outputs": [
    {
     "data": {
      "text/plain": [
       "0.1766"
      ]
     },
     "execution_count": 52,
     "metadata": {},
     "output_type": "execute_result"
    }
   ],
   "source": [
    "P_b"
   ]
  },
  {
   "cell_type": "code",
   "execution_count": 53,
   "metadata": {
    "id": "-Og0ELwk_9Hg"
   },
   "outputs": [],
   "source": [
    "from statsmodels.stats.proportion import proportions_ztest"
   ]
  },
  {
   "cell_type": "code",
   "execution_count": 54,
   "metadata": {
    "colab": {
     "base_uri": "https://localhost:8080/"
    },
    "id": "q_8SJN0xFxvl",
    "outputId": "88b8c0a6-ed47-4f39-857d-145e0fcb5c48"
   },
   "outputs": [
    {
     "name": "stdout",
     "output_type": "stream",
     "text": [
      "<class 'pandas.core.frame.DataFrame'>\n",
      "RangeIndex: 130000 entries, 0 to 129999\n",
      "Data columns (total 4 columns):\n",
      " #   Column       Non-Null Count   Dtype \n",
      "---  ------       --------------   ----- \n",
      " 0   purchase_TF  130000 non-null  bool  \n",
      " 1   Variant      130000 non-null  object\n",
      " 2   date         130000 non-null  object\n",
      " 3   id           130000 non-null  object\n",
      "dtypes: bool(1), object(3)\n",
      "memory usage: 3.1+ MB\n"
     ]
    }
   ],
   "source": [
    "df.info()"
   ]
  },
  {
   "cell_type": "code",
   "execution_count": 55,
   "metadata": {
    "colab": {
     "base_uri": "https://localhost:8080/"
    },
    "id": "k4JlaJhu_8u1",
    "outputId": "6cebf19f-4499-4ac0-d403-d67bc9ccf741"
   },
   "outputs": [
    {
     "data": {
      "text/plain": [
       "10        True\n",
       "19        True\n",
       "22        True\n",
       "37        True\n",
       "45        True\n",
       "          ... \n",
       "129978    True\n",
       "129980    True\n",
       "129982    True\n",
       "129988    True\n",
       "129989    True\n",
       "Name: purchase_TF, Length: 18702, dtype: bool"
      ]
     },
     "execution_count": 55,
     "metadata": {},
     "output_type": "execute_result"
    }
   ],
   "source": [
    "control_results = df[(df['purchase_TF'] == True) &(df['Variant']=='A')]['purchase_TF']\n",
    "control_results"
   ]
  },
  {
   "cell_type": "code",
   "execution_count": 56,
   "metadata": {
    "colab": {
     "base_uri": "https://localhost:8080/"
    },
    "id": "4vI0P_nzGKCO",
    "outputId": "8451393f-d62c-49c4-85d7-bcc1e9ae0f43"
   },
   "outputs": [
    {
     "data": {
      "text/plain": [
       "181       True\n",
       "415       True\n",
       "429       True\n",
       "553       True\n",
       "726       True\n",
       "          ... \n",
       "128735    True\n",
       "128881    True\n",
       "129016    True\n",
       "129048    True\n",
       "129798    True\n",
       "Name: purchase_TF, Length: 883, dtype: bool"
      ]
     },
     "execution_count": 56,
     "metadata": {},
     "output_type": "execute_result"
    }
   ],
   "source": [
    "treatment_results = df[(df['purchase_TF'] == True)&(df['Variant']=='B')]['purchase_TF']\n",
    "treatment_results"
   ]
  },
  {
   "cell_type": "code",
   "execution_count": 57,
   "metadata": {
    "id": "QOv8mAJxImjT"
   },
   "outputs": [],
   "source": [
    "n_treat = df[df['Variant']=='B']['id'].count()"
   ]
  },
  {
   "cell_type": "code",
   "execution_count": 58,
   "metadata": {
    "colab": {
     "base_uri": "https://localhost:8080/"
    },
    "id": "c51sahfEIo6L",
    "outputId": "fa98864c-8ffc-40f6-c172-427040e4890b"
   },
   "outputs": [
    {
     "data": {
      "text/plain": [
       "5000"
      ]
     },
     "execution_count": 58,
     "metadata": {},
     "output_type": "execute_result"
    }
   ],
   "source": [
    "n_treat"
   ]
  },
  {
   "cell_type": "code",
   "execution_count": 59,
   "metadata": {
    "id": "NqQbUIdM_65o"
   },
   "outputs": [],
   "source": [
    "n_con = df[df['Variant']=='A']['id'].count()\n",
    "n_treat = df[df['Variant']=='B']['id'].count()\n",
    "successes = [treatment_results.sum(),control_results.sum() ]\n",
    "nobs = [n_treat, n_con]"
   ]
  },
  {
   "cell_type": "code",
   "execution_count": 60,
   "metadata": {
    "colab": {
     "base_uri": "https://localhost:8080/"
    },
    "id": "3uGBOpEyHk7m",
    "outputId": "11336c58-4776-419b-8971-404d0ab0c7b4"
   },
   "outputs": [
    {
     "data": {
      "text/plain": [
       "125000"
      ]
     },
     "execution_count": 60,
     "metadata": {},
     "output_type": "execute_result"
    }
   ],
   "source": [
    "n_con"
   ]
  },
  {
   "cell_type": "code",
   "execution_count": 61,
   "metadata": {
    "colab": {
     "base_uri": "https://localhost:8080/"
    },
    "id": "lnjvYsUVBwpi",
    "outputId": "054e193a-4d08-43d1-9015-fbd159752c3d"
   },
   "outputs": [
    {
     "data": {
      "text/plain": [
       "[883, 18702]"
      ]
     },
     "execution_count": 61,
     "metadata": {},
     "output_type": "execute_result"
    }
   ],
   "source": [
    "successes"
   ]
  },
  {
   "cell_type": "code",
   "execution_count": 62,
   "metadata": {
    "id": "TRF8mw3o_5xm"
   },
   "outputs": [],
   "source": [
    "z_stat, pval = proportions_ztest(successes, nobs=nobs)"
   ]
  },
  {
   "cell_type": "code",
   "execution_count": 63,
   "metadata": {
    "colab": {
     "base_uri": "https://localhost:8080/"
    },
    "id": "FI9wEPlyHecF",
    "outputId": "c7e1f7b0-07d9-4386-a2a4-fe6e254eac3b"
   },
   "outputs": [
    {
     "data": {
      "text/plain": [
       "5.2304877183522045"
      ]
     },
     "execution_count": 63,
     "metadata": {},
     "output_type": "execute_result"
    }
   ],
   "source": [
    "z_stat"
   ]
  },
  {
   "cell_type": "markdown",
   "metadata": {},
   "source": [
    "### Since 5.23>1.64, the null hypothesis is rejected and the new interface does increase the conversion rate."
   ]
  },
  {
   "cell_type": "markdown",
   "metadata": {},
   "source": [
    "## Q2"
   ]
  },
  {
   "cell_type": "code",
   "execution_count": 64,
   "metadata": {
    "id": "1oM_Mf_0Mqc1"
   },
   "outputs": [],
   "source": [
    "#optimal_n=((1.96*np.sqrt(2*p_bar*(1-p_bar))+0.2*np.sqrt(P_b*(1-P_b)+P_a*(1-P_a)))**2)/((0.02)**2)"
   ]
  },
  {
   "cell_type": "code",
   "execution_count": 65,
   "metadata": {
    "colab": {
     "base_uri": "https://localhost:8080/"
    },
    "id": "S1jOgoTXMqmW",
    "outputId": "c79ffc61-8122-4472-dae7-05bf062b4cbe"
   },
   "outputs": [],
   "source": [
    "#optimal=optimal_n.round()"
   ]
  },
  {
   "cell_type": "code",
   "execution_count": 66,
   "metadata": {
    "id": "M5QAWq9LMq_y"
   },
   "outputs": [
    {
     "data": {
      "text/plain": [
       "-3.463193447083688"
      ]
     },
     "execution_count": 66,
     "metadata": {},
     "output_type": "execute_result"
    }
   ],
   "source": [
    "#Geting a single sample to find the z-score\n",
    "treatment=df[df['Variant']=='B']\n",
    "\n",
    "control=df[df['Variant']=='A']\n",
    "\n",
    "from random import sample\n",
    "\n",
    "control1=control.sample(n=3184)\n",
    "\n",
    "treatment1=treatment.sample(n=3184)\n",
    "\n",
    "treatment_results1= treatment1[treatment1['purchase_TF'] == True]['purchase_TF']\n",
    "control_results1= control1[control1['purchase_TF'] == True]['purchase_TF']\n",
    "\n",
    "successes1 = [control_results1.sum(), treatment_results1.sum()]\n",
    "\n",
    "z_stat1, pval1 = proportions_ztest(successes1, nobs=[3184,3184])\n",
    "\n",
    "z_stat1"
   ]
  },
  {
   "cell_type": "code",
   "execution_count": 67,
   "metadata": {},
   "outputs": [
    {
     "data": {
      "text/plain": [
       "0.0005338044698854194"
      ]
     },
     "execution_count": 67,
     "metadata": {},
     "output_type": "execute_result"
    }
   ],
   "source": [
    "pval1"
   ]
  },
  {
   "cell_type": "code",
   "execution_count": 68,
   "metadata": {},
   "outputs": [
    {
     "data": {
      "text/plain": [
       "0.1466708542713568"
      ]
     },
     "execution_count": 68,
     "metadata": {},
     "output_type": "execute_result"
    }
   ],
   "source": [
    "P_a= control_results1.sum()/3184\n",
    "P_a"
   ]
  },
  {
   "cell_type": "code",
   "execution_count": 69,
   "metadata": {},
   "outputs": [
    {
     "data": {
      "text/plain": [
       "0.17870603015075376"
      ]
     },
     "execution_count": 69,
     "metadata": {},
     "output_type": "execute_result"
    }
   ],
   "source": [
    "P_b= treatment_results1.sum()/3184\n",
    "P_b"
   ]
  },
  {
   "cell_type": "code",
   "execution_count": 70,
   "metadata": {},
   "outputs": [
    {
     "name": "stdout",
     "output_type": "stream",
     "text": [
      "[1.244288294783038, 3.331467821103587, 2.689620280708866, 3.2944409064613525, 3.901229255472357, 3.56643948782784, 1.5654941965031337, 2.0435515233687194, 4.811815517820096, 1.8510147271896575]\n",
      "[0.21339347748672044, 0.000863892871976199, 0.007153336302187226, 0.0009861767780147157, 9.570546034882321e-05, 0.0003618643189814297, 0.11746707710455727, 0.04099787244644125, 1.4956538220375277e-06, 0.06416743443140618]\n",
      "[0.16080402010050251, 0.14290201005025124, 0.14918341708542712, 0.1513819095477387, 0.1416457286432161, 0.14604271356783918, 0.15452261306532664, 0.15201005025125627, 0.13850502512562815, 0.15766331658291458]\n",
      "[0.17242462311557788, 0.17336683417085427, 0.17399497487437185, 0.18216080402010051, 0.1774497487437186, 0.17902010050251257, 0.16896984924623115, 0.1708542713567839, 0.1827889447236181, 0.17493718592964824]\n"
     ]
    },
    {
     "name": "stderr",
     "output_type": "stream",
     "text": [
      "/var/folders/fc/f8fdl3p13ml6fcdkp0kht73h0000gp/T/ipykernel_41603/688659106.py:14: UserWarning: Boolean Series key will be reindexed to match DataFrame index.\n",
      "  control_results = df_control_result[control['purchase_TF'] == True]['purchase_TF']\n",
      "/var/folders/fc/f8fdl3p13ml6fcdkp0kht73h0000gp/T/ipykernel_41603/688659106.py:16: UserWarning: Boolean Series key will be reindexed to match DataFrame index.\n",
      "  treatment_results = df_treatment_result[treatment['purchase_TF'] == True]['purchase_TF']\n"
     ]
    }
   ],
   "source": [
    "#Find the 10 random samples\n",
    "random_num_dict = {}\n",
    "for i in range(10):\n",
    "    random_num_dict[i] = [control.sample(n=3184),treatment.sample(n=3184)]\n",
    "#print(random_num_dict)\n",
    "\n",
    "z_stats_list = []\n",
    "p_val_list = []\n",
    "P_a_list = []\n",
    "P_b_list = []\n",
    "\n",
    "for key in random_num_dict.keys():\n",
    "    #obtaining the results(randomized control/treatment group) by key\n",
    "    df_control_result = random_num_dict[key][0]\n",
    "    control_results = df_control_result[control['purchase_TF'] == True]['purchase_TF']\n",
    "    df_treatment_result = random_num_dict[key][1]\n",
    "    treatment_results = df_treatment_result[treatment['purchase_TF'] == True]['purchase_TF']\n",
    "    \n",
    "    successes = [treatment_results.sum(),control_results.sum()]\n",
    "    \n",
    "    z_stat, p_val = proportions_ztest(successes, nobs=[3184,3184])\n",
    "    z_stats_list.append(z_stat)\n",
    "    p_val_list.append(p_val)\n",
    "    \n",
    "    P_a = control_results.sum()/3184\n",
    "    P_b = treatment_results.sum()/3184\n",
    "    \n",
    "    P_a_list.append(P_a)\n",
    "    P_b_list.append(P_b)\n",
    "    \n",
    "    \n",
    "print(z_stats_list)\n",
    "print(p_val_list)\n",
    "print(P_a_list)\n",
    "print(P_b_list)\n",
    "#each list is indiced according to range(10), e.g. z_stats_1 = z_stats_list[0], p_val_1 = p_val_list[0]."
   ]
  },
  {
   "cell_type": "code",
   "execution_count": 71,
   "metadata": {},
   "outputs": [
    {
     "data": {
      "text/html": [
       "<div>\n",
       "<style scoped>\n",
       "    .dataframe tbody tr th:only-of-type {\n",
       "        vertical-align: middle;\n",
       "    }\n",
       "\n",
       "    .dataframe tbody tr th {\n",
       "        vertical-align: top;\n",
       "    }\n",
       "\n",
       "    .dataframe thead th {\n",
       "        text-align: right;\n",
       "    }\n",
       "</style>\n",
       "<table border=\"1\" class=\"dataframe\">\n",
       "  <thead>\n",
       "    <tr style=\"text-align: right;\">\n",
       "      <th></th>\n",
       "      <th>Z_score</th>\n",
       "      <th>P_a</th>\n",
       "      <th>P_b</th>\n",
       "    </tr>\n",
       "  </thead>\n",
       "  <tbody>\n",
       "    <tr>\n",
       "      <th>0</th>\n",
       "      <td>1.244288</td>\n",
       "      <td>0.160804</td>\n",
       "      <td>0.172425</td>\n",
       "    </tr>\n",
       "    <tr>\n",
       "      <th>1</th>\n",
       "      <td>3.331468</td>\n",
       "      <td>0.142902</td>\n",
       "      <td>0.173367</td>\n",
       "    </tr>\n",
       "    <tr>\n",
       "      <th>2</th>\n",
       "      <td>2.689620</td>\n",
       "      <td>0.149183</td>\n",
       "      <td>0.173995</td>\n",
       "    </tr>\n",
       "    <tr>\n",
       "      <th>3</th>\n",
       "      <td>3.294441</td>\n",
       "      <td>0.151382</td>\n",
       "      <td>0.182161</td>\n",
       "    </tr>\n",
       "    <tr>\n",
       "      <th>4</th>\n",
       "      <td>3.901229</td>\n",
       "      <td>0.141646</td>\n",
       "      <td>0.177450</td>\n",
       "    </tr>\n",
       "    <tr>\n",
       "      <th>5</th>\n",
       "      <td>3.566439</td>\n",
       "      <td>0.146043</td>\n",
       "      <td>0.179020</td>\n",
       "    </tr>\n",
       "    <tr>\n",
       "      <th>6</th>\n",
       "      <td>1.565494</td>\n",
       "      <td>0.154523</td>\n",
       "      <td>0.168970</td>\n",
       "    </tr>\n",
       "    <tr>\n",
       "      <th>7</th>\n",
       "      <td>2.043552</td>\n",
       "      <td>0.152010</td>\n",
       "      <td>0.170854</td>\n",
       "    </tr>\n",
       "    <tr>\n",
       "      <th>8</th>\n",
       "      <td>4.811816</td>\n",
       "      <td>0.138505</td>\n",
       "      <td>0.182789</td>\n",
       "    </tr>\n",
       "    <tr>\n",
       "      <th>9</th>\n",
       "      <td>1.851015</td>\n",
       "      <td>0.157663</td>\n",
       "      <td>0.174937</td>\n",
       "    </tr>\n",
       "  </tbody>\n",
       "</table>\n",
       "</div>"
      ],
      "text/plain": [
       "    Z_score       P_a       P_b\n",
       "0  1.244288  0.160804  0.172425\n",
       "1  3.331468  0.142902  0.173367\n",
       "2  2.689620  0.149183  0.173995\n",
       "3  3.294441  0.151382  0.182161\n",
       "4  3.901229  0.141646  0.177450\n",
       "5  3.566439  0.146043  0.179020\n",
       "6  1.565494  0.154523  0.168970\n",
       "7  2.043552  0.152010  0.170854\n",
       "8  4.811816  0.138505  0.182789\n",
       "9  1.851015  0.157663  0.174937"
      ]
     },
     "execution_count": 71,
     "metadata": {},
     "output_type": "execute_result"
    }
   ],
   "source": [
    "results = pd.DataFrame(list(zip(z_stats_list, P_a_list,P_b_list)),\n",
    "               columns =['Z_score', 'P_a','P_b'])\n",
    "results\n",
    "    "
   ]
  },
  {
   "cell_type": "code",
   "execution_count": 72,
   "metadata": {
    "scrolled": true
   },
   "outputs": [
    {
     "name": "stdout",
     "output_type": "stream",
     "text": [
      "In trial 1, the null hypothesis cannot be rejected with sufficient evidence.\n",
      "In trial 2, the null hypothesis is rejected. B increases the conversion rate.\n",
      "In trial 3, the null hypothesis is rejected. B increases the conversion rate.\n",
      "In trial 4, the null hypothesis is rejected. B increases the conversion rate.\n",
      "In trial 5, the null hypothesis is rejected. B increases the conversion rate.\n",
      "In trial 6, the null hypothesis is rejected. B increases the conversion rate.\n",
      "In trial 7, the null hypothesis cannot be rejected with sufficient evidence.\n",
      "In trial 8, the null hypothesis is rejected. B increases the conversion rate.\n",
      "In trial 9, the null hypothesis is rejected. B increases the conversion rate.\n",
      "In trial 10, the null hypothesis is rejected. B increases the conversion rate.\n"
     ]
    }
   ],
   "source": [
    "for i in range(1,len(z_stats_list)+1):\n",
    "    if z_stats_list[i-1] > 1.64:\n",
    "        print(\"In trial %d, the null hypothesis is rejected. B increases the conversion rate.\" % i)\n",
    "    else:\n",
    "        print(\"In trial %d, the null hypothesis cannot be rejected with sufficient evidence.\" % i)"
   ]
  },
  {
   "cell_type": "markdown",
   "metadata": {},
   "source": [
    "## Q3"
   ]
  },
  {
   "cell_type": "code",
   "execution_count": 76,
   "metadata": {},
   "outputs": [
    {
     "name": "stdout",
     "output_type": "stream",
     "text": [
      "2.772588722239781 -1.5581446180465497\n"
     ]
    }
   ],
   "source": [
    "A = np.log((1-0.2)/0.05)\n",
    "B = np.log(0.2/(1-0.05)) #Wald Boundaries\n",
    "print(A,B)"
   ]
  },
  {
   "cell_type": "code",
   "execution_count": 74,
   "metadata": {},
   "outputs": [
    {
     "name": "stdout",
     "output_type": "stream",
     "text": [
      "[317, 568, 824, 686, 493, 553, 814, 320, 260, 444]\n"
     ]
    }
   ],
   "source": [
    "num_of_iter = []\n",
    "\n",
    "for k in range(10):#10 samples\n",
    "    temp = 0\n",
    "    count = 0\n",
    "    sample_control = df[df['Variant'] == 'A']\n",
    "    sample_treatment = df[df['Variant'] == 'B'].sample(n=3184, random_state = k)\n",
    "    \n",
    "    \n",
    "    ab_test = pd.concat([sample_control, sample_treatment], axis=0)\n",
    "    ab_test.reset_index(drop=True, inplace=True)\n",
    "    \n",
    "    control_res = ab_test[ab_test['Variant'] == 'A']['purchase_TF']\n",
    "    treatment_res = ab_test[ab_test['Variant'] == 'B']['purchase_TF']\n",
    "    #whether the customer buy anything or not\n",
    "    \n",
    "    conv_A = control_res.sum() / control_res.count()\n",
    "    conv_B = treatment_res.sum() /treatment_res.count()\n",
    "    #the conversion rate\n",
    "    \n",
    "    new_idx = sample_treatment.reset_index()\n",
    "    \n",
    "    X_1 = np.log(conv_B/conv_A)\n",
    "    X_0 = np.log((1-conv_B)/(1-conv_A))\n",
    "    \n",
    "    for l in range(1,3185): #within the range of the \"optimal sample size\"\n",
    "        if B < temp < A:\n",
    "            if new_idx['purchase_TF'][l-1] == 1:\n",
    "                temp += X_1\n",
    "            if new_idx['purchase_TF'][l-1] == 0:\n",
    "                temp += X_0\n",
    "            count = l\n",
    "        else:\n",
    "            break\n",
    "    num_of_iter.append(count)\n",
    "\n",
    "print(num_of_iter)\n",
    "    \n",
    "    "
   ]
  },
  {
   "cell_type": "code",
   "execution_count": 77,
   "metadata": {},
   "outputs": [
    {
     "name": "stdout",
     "output_type": "stream",
     "text": [
      "The average iteration time is: 527.9\n"
     ]
    }
   ],
   "source": [
    "print(\"The average iteration time is: \"+str(sum(num_of_iter)/len(num_of_iter)))"
   ]
  }
 ],
 "metadata": {
  "colab": {
   "collapsed_sections": [],
   "provenance": []
  },
  "kernelspec": {
   "display_name": "Python 3 (ipykernel)",
   "language": "python",
   "name": "python3"
  },
  "language_info": {
   "codemirror_mode": {
    "name": "ipython",
    "version": 3
   },
   "file_extension": ".py",
   "mimetype": "text/x-python",
   "name": "python",
   "nbconvert_exporter": "python",
   "pygments_lexer": "ipython3",
   "version": "3.9.12"
  }
 },
 "nbformat": 4,
 "nbformat_minor": 1
}
